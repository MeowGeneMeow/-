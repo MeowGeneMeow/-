{
 "cells": [
  {
   "cell_type": "code",
   "execution_count": 1,
   "metadata": {},
   "outputs": [],
   "source": [
    "import numpy as np\n",
    "import matplotlib.pyplot as plt\n",
    "import pandas as pd\n",
    "\n"
   ]
  },
  {
   "cell_type": "code",
   "execution_count": 2,
   "metadata": {},
   "outputs": [
    {
     "name": "stderr",
     "output_type": "stream",
     "text": [
      "2023-02-20 09:12:59.781971: I tensorflow/core/platform/cpu_feature_guard.cc:193] This TensorFlow binary is optimized with oneAPI Deep Neural Network Library (oneDNN) to use the following CPU instructions in performance-critical operations:  AVX2 AVX512F AVX512_VNNI FMA\n",
      "To enable them in other operations, rebuild TensorFlow with the appropriate compiler flags.\n"
     ]
    }
   ],
   "source": [
    "from tensorflow.keras.utils import to_categorical\n",
    "from tensorflow.keras.models import Sequential\n",
    "from tensorflow.keras.layers import Dense\n",
    "from tensorflow.keras.optimizers import SGD"
   ]
  },
  {
   "attachments": {},
   "cell_type": "markdown",
   "metadata": {},
   "source": [
    "# 讀入 MNSIT 數據集"
   ]
  },
  {
   "cell_type": "code",
   "execution_count": 3,
   "metadata": {},
   "outputs": [],
   "source": [
    "from tensorflow.keras.datasets import mnist\n",
    "(x_train, y_train), (x_test, y_test) = mnist.load_data()"
   ]
  },
  {
   "cell_type": "code",
   "execution_count": 4,
   "metadata": {},
   "outputs": [
    {
     "data": {
      "text/plain": [
       "60000"
      ]
     },
     "execution_count": 4,
     "metadata": {},
     "output_type": "execute_result"
    }
   ],
   "source": [
    "len(x_train)"
   ]
  },
  {
   "cell_type": "code",
   "execution_count": 5,
   "metadata": {},
   "outputs": [
    {
     "data": {
      "text/plain": [
       "10000"
      ]
     },
     "execution_count": 5,
     "metadata": {},
     "output_type": "execute_result"
    }
   ],
   "source": [
    "len(x_test)\n"
   ]
  },
  {
   "cell_type": "code",
   "execution_count": 6,
   "metadata": {},
   "outputs": [],
   "source": [
    "x_train = x_train.reshape(60000, 784)/255\n",
    "x_test = x_test.reshape(10000, 784)/255\n",
    "y_train = to_categorical(y_train, 10)\n",
    "y_test = to_categorical(y_test, 10)"
   ]
  },
  {
   "attachments": {},
   "cell_type": "markdown",
   "metadata": {},
   "source": [
    "### 建構自己的神經網路"
   ]
  },
  {
   "cell_type": "code",
   "execution_count": 7,
   "metadata": {},
   "outputs": [
    {
     "name": "stderr",
     "output_type": "stream",
     "text": [
      "2023-02-20 09:13:24.130247: I tensorflow/core/platform/cpu_feature_guard.cc:193] This TensorFlow binary is optimized with oneAPI Deep Neural Network Library (oneDNN) to use the following CPU instructions in performance-critical operations:  AVX2 AVX512F AVX512_VNNI FMA\n",
      "To enable them in other operations, rebuild TensorFlow with the appropriate compiler flags.\n"
     ]
    }
   ],
   "source": [
    "# model 是名稱，Sequential 是建構方法\n",
    "model = Sequential()"
   ]
  },
  {
   "cell_type": "code",
   "execution_count": 8,
   "metadata": {},
   "outputs": [],
   "source": [
    "# model 中加入（神經網路模式CNN/RNN/DNN（神經元數量,維度（這邊是28*28）,激發函數））\n",
    "model.add(Dense(100, input_dim=784, activation='relu'))"
   ]
  },
  {
   "cell_type": "code",
   "execution_count": 9,
   "metadata": {},
   "outputs": [],
   "source": [
    "# 第二層\n",
    "model.add(Dense(100, activation='relu'))"
   ]
  },
  {
   "cell_type": "code",
   "execution_count": 10,
   "metadata": {},
   "outputs": [],
   "source": [
    "# 輸出層\n",
    "# 10 代表說最後輸出10個神經元（因為數字10種 1~10）\n",
    "model.add(Dense(10, activation='softmax'))"
   ]
  },
  {
   "cell_type": "code",
   "execution_count": 11,
   "metadata": {},
   "outputs": [],
   "source": [
    "# loss 的意思是 loss function, SGD(gradient descent) \n",
    "model.compile(loss='mse', optimizer=SGD(learning_rate=1), \n",
    "              metrics=['accuracy'])"
   ]
  },
  {
   "cell_type": "code",
   "execution_count": 12,
   "metadata": {},
   "outputs": [
    {
     "name": "stdout",
     "output_type": "stream",
     "text": [
      "Model: \"sequential\"\n",
      "_________________________________________________________________\n",
      " Layer (type)                Output Shape              Param #   \n",
      "=================================================================\n",
      " dense (Dense)               (None, 100)               78500     \n",
      "                                                                 \n",
      " dense_1 (Dense)             (None, 100)               10100     \n",
      "                                                                 \n",
      " dense_2 (Dense)             (None, 10)                1010      \n",
      "                                                                 \n",
      "=================================================================\n",
      "Total params: 89,610\n",
      "Trainable params: 89,610\n",
      "Non-trainable params: 0\n",
      "_________________________________________________________________\n"
     ]
    }
   ],
   "source": [
    "model.summary()"
   ]
  },
  {
   "attachments": {},
   "cell_type": "markdown",
   "metadata": {},
   "source": [
    "### Training"
   ]
  },
  {
   "cell_type": "code",
   "execution_count": 13,
   "metadata": {},
   "outputs": [
    {
     "name": "stdout",
     "output_type": "stream",
     "text": [
      "Epoch 1/50\n",
      "600/600 [==============================] - 7s 7ms/step - loss: 0.0273 - accuracy: 0.8200\n",
      "Epoch 2/50\n",
      "600/600 [==============================] - 4s 7ms/step - loss: 0.0117 - accuracy: 0.9244\n",
      "Epoch 3/50\n",
      "600/600 [==============================] - 4s 7ms/step - loss: 0.0095 - accuracy: 0.9399\n",
      "Epoch 4/50\n",
      "600/600 [==============================] - 4s 7ms/step - loss: 0.0081 - accuracy: 0.9488\n",
      "Epoch 5/50\n",
      "600/600 [==============================] - 4s 7ms/step - loss: 0.0071 - accuracy: 0.9555\n",
      "Epoch 6/50\n",
      "600/600 [==============================] - 4s 7ms/step - loss: 0.0064 - accuracy: 0.9600\n",
      "Epoch 7/50\n",
      "600/600 [==============================] - 4s 7ms/step - loss: 0.0057 - accuracy: 0.9647\n",
      "Epoch 8/50\n",
      "600/600 [==============================] - 4s 7ms/step - loss: 0.0052 - accuracy: 0.9683\n",
      "Epoch 9/50\n",
      "600/600 [==============================] - 5s 8ms/step - loss: 0.0048 - accuracy: 0.9714\n",
      "Epoch 10/50\n",
      "600/600 [==============================] - 4s 7ms/step - loss: 0.0044 - accuracy: 0.9741\n",
      "Epoch 11/50\n",
      "600/600 [==============================] - 4s 7ms/step - loss: 0.0041 - accuracy: 0.9756\n",
      "Epoch 12/50\n",
      "600/600 [==============================] - 4s 7ms/step - loss: 0.0038 - accuracy: 0.9778\n",
      "Epoch 13/50\n",
      "600/600 [==============================] - 5s 8ms/step - loss: 0.0036 - accuracy: 0.9792\n",
      "Epoch 14/50\n",
      "600/600 [==============================] - 5s 8ms/step - loss: 0.0033 - accuracy: 0.9806\n",
      "Epoch 15/50\n",
      "600/600 [==============================] - 5s 8ms/step - loss: 0.0032 - accuracy: 0.9821\n",
      "Epoch 16/50\n",
      "600/600 [==============================] - 5s 8ms/step - loss: 0.0030 - accuracy: 0.9831\n",
      "Epoch 17/50\n",
      "600/600 [==============================] - 5s 9ms/step - loss: 0.0028 - accuracy: 0.9841\n",
      "Epoch 18/50\n",
      "600/600 [==============================] - 5s 9ms/step - loss: 0.0027 - accuracy: 0.9851\n",
      "Epoch 19/50\n",
      "600/600 [==============================] - 5s 9ms/step - loss: 0.0025 - accuracy: 0.9861\n",
      "Epoch 20/50\n",
      "600/600 [==============================] - 5s 9ms/step - loss: 0.0024 - accuracy: 0.9868\n",
      "Epoch 21/50\n",
      "600/600 [==============================] - 4s 7ms/step - loss: 0.0023 - accuracy: 0.9874\n",
      "Epoch 22/50\n",
      "600/600 [==============================] - 4s 7ms/step - loss: 0.0022 - accuracy: 0.9881\n",
      "Epoch 23/50\n",
      "600/600 [==============================] - 5s 8ms/step - loss: 0.0021 - accuracy: 0.9888\n",
      "Epoch 24/50\n",
      "600/600 [==============================] - 5s 8ms/step - loss: 0.0020 - accuracy: 0.9897\n",
      "Epoch 25/50\n",
      "600/600 [==============================] - 5s 8ms/step - loss: 0.0019 - accuracy: 0.9901\n",
      "Epoch 26/50\n",
      "600/600 [==============================] - 5s 8ms/step - loss: 0.0018 - accuracy: 0.9908\n",
      "Epoch 27/50\n",
      "600/600 [==============================] - 5s 8ms/step - loss: 0.0017 - accuracy: 0.9912\n",
      "Epoch 28/50\n",
      "600/600 [==============================] - 4s 7ms/step - loss: 0.0016 - accuracy: 0.9917\n",
      "Epoch 29/50\n",
      "600/600 [==============================] - 4s 7ms/step - loss: 0.0016 - accuracy: 0.9919\n",
      "Epoch 30/50\n",
      "600/600 [==============================] - 4s 7ms/step - loss: 0.0015 - accuracy: 0.9924\n",
      "Epoch 31/50\n",
      "600/600 [==============================] - 4s 7ms/step - loss: 0.0014 - accuracy: 0.9927\n",
      "Epoch 32/50\n",
      "600/600 [==============================] - 4s 7ms/step - loss: 0.0014 - accuracy: 0.9931\n",
      "Epoch 33/50\n",
      "600/600 [==============================] - 5s 8ms/step - loss: 0.0013 - accuracy: 0.9933\n",
      "Epoch 34/50\n",
      "600/600 [==============================] - 5s 8ms/step - loss: 0.0013 - accuracy: 0.9937\n",
      "Epoch 35/50\n",
      "600/600 [==============================] - 4s 7ms/step - loss: 0.0012 - accuracy: 0.9941\n",
      "Epoch 36/50\n",
      "600/600 [==============================] - 4s 7ms/step - loss: 0.0012 - accuracy: 0.9943\n",
      "Epoch 37/50\n",
      "600/600 [==============================] - 5s 8ms/step - loss: 0.0012 - accuracy: 0.9943\n",
      "Epoch 38/50\n",
      "600/600 [==============================] - 5s 8ms/step - loss: 0.0011 - accuracy: 0.9947\n",
      "Epoch 39/50\n",
      "600/600 [==============================] - 5s 8ms/step - loss: 0.0011 - accuracy: 0.9946\n",
      "Epoch 40/50\n",
      "600/600 [==============================] - 5s 8ms/step - loss: 0.0010 - accuracy: 0.9949\n",
      "Epoch 41/50\n",
      "600/600 [==============================] - 5s 8ms/step - loss: 0.0010 - accuracy: 0.9950\n",
      "Epoch 42/50\n",
      "600/600 [==============================] - 5s 8ms/step - loss: 9.8232e-04 - accuracy: 0.9952\n",
      "Epoch 43/50\n",
      "600/600 [==============================] - 5s 9ms/step - loss: 9.4841e-04 - accuracy: 0.9954\n",
      "Epoch 44/50\n",
      "600/600 [==============================] - 5s 9ms/step - loss: 9.2652e-04 - accuracy: 0.9954\n",
      "Epoch 45/50\n",
      "600/600 [==============================] - 5s 9ms/step - loss: 9.0385e-04 - accuracy: 0.9955\n",
      "Epoch 46/50\n",
      "600/600 [==============================] - 5s 9ms/step - loss: 8.8739e-04 - accuracy: 0.9956\n",
      "Epoch 47/50\n",
      "600/600 [==============================] - 5s 9ms/step - loss: 8.7071e-04 - accuracy: 0.9955\n",
      "Epoch 48/50\n",
      "600/600 [==============================] - 5s 8ms/step - loss: 8.5276e-04 - accuracy: 0.9956\n",
      "Epoch 49/50\n",
      "600/600 [==============================] - 5s 8ms/step - loss: 8.3391e-04 - accuracy: 0.9958\n",
      "Epoch 50/50\n",
      "600/600 [==============================] - 5s 8ms/step - loss: 8.1593e-04 - accuracy: 0.9959\n"
     ]
    },
    {
     "data": {
      "text/plain": [
       "<keras.callbacks.History at 0x1278623d0>"
      ]
     },
     "execution_count": 13,
     "metadata": {},
     "output_type": "execute_result"
    }
   ],
   "source": [
    "# batch size 分批的概念\n",
    "# epochs 學習幾次的意思\n",
    "model.fit(x_train, y_train, batch_size=100, epochs=50)"
   ]
  },
  {
   "cell_type": "code",
   "execution_count": 14,
   "metadata": {},
   "outputs": [
    {
     "name": "stdout",
     "output_type": "stream",
     "text": [
      "313/313 [==============================] - 2s 5ms/step\n"
     ]
    }
   ],
   "source": [
    "y_predict = np.argmax(model.predict(x_test), axis=-1)"
   ]
  },
  {
   "cell_type": "code",
   "execution_count": 15,
   "metadata": {},
   "outputs": [
    {
     "name": "stdout",
     "output_type": "stream",
     "text": [
      "神經網路預測是: 4\n"
     ]
    },
    {
     "data": {
      "text/plain": [
       "<matplotlib.image.AxesImage at 0x12801f940>"
      ]
     },
     "execution_count": 15,
     "metadata": {},
     "output_type": "execute_result"
    },
    {
     "data": {
      "image/png": "[encoded data removed]",
      "text/plain": [
       "<Figure size 640x480 with 1 Axes>"
      ]
     },
     "metadata": {},
     "output_type": "display_data"
    }
   ],
   "source": [
    "n = 9453\n",
    "print('神經網路預測是:', y_predict[n])\n",
    "plt.imshow(x_test[n].reshape(28,28), cmap='Greys')"
   ]
  },
  {
   "cell_type": "code",
   "execution_count": null,
   "metadata": {},
   "outputs": [],
   "source": []
  }
 ],
 "metadata": {
  "kernelspec": {
   "display_name": "Python 3",
   "language": "python",
   "name": "python3"
  },
  "language_info": {
   "codemirror_mode": {
    "name": "ipython",
    "version": 3
   },
   "file_extension": ".py",
   "mimetype": "text/x-python",
   "name": "python",
   "nbconvert_exporter": "python",
   "pygments_lexer": "ipython3",
   "version": "3.9.6"
  },
  "orig_nbformat": 4,
  "vscode": {
   "interpreter": {
    "hash": "31f2aee4e71d21fbe5cf8b01ff0e069b9275f58929596ceb00d14d90e3e16cd6"
   }
  }
 },
 "nbformat": 4,
 "nbformat_minor": 2
}
